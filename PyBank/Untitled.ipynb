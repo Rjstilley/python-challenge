{
 "cells": [
  {
   "cell_type": "code",
   "execution_count": 5,
   "metadata": {},
   "outputs": [],
   "source": [
    "import os\n",
    "import csv"
   ]
  },
  {
   "cell_type": "code",
   "execution_count": 6,
   "metadata": {},
   "outputs": [],
   "source": [
    "readFile = os.path.join(\"Resources/budget_data.csv\")"
   ]
  },
  {
   "cell_type": "code",
   "execution_count": 7,
   "metadata": {},
   "outputs": [],
   "source": [
    "profit = []\n",
    "date = []\n"
   ]
  },
  {
   "cell_type": "code",
   "execution_count": 8,
   "metadata": {},
   "outputs": [],
   "source": [
    "initial_profit = 0\n",
    "total_profit = 0\n",
    "total_change_profits = []\n",
    "count = 0"
   ]
  },
  {
   "cell_type": "code",
   "execution_count": 9,
   "metadata": {},
   "outputs": [],
   "source": [
    "with open(readFile) as csvfile:\n",
    "    info = csv.reader(csvfile, delimiter=\",\")\n",
    "    header = next(info)\n",
    "    for A in info:\n",
    "        # print(row)\n",
    "        count = count + 1\n",
    "        profit.append(int(A[1]))\n",
    "        date.append(A[0])\n",
    "\n",
    "    for B in profit:\n",
    "        total_profit = total_profit + B\n",
    "\n",
    "    for C in range(1, len(profit)):\n",
    "        total_change_profits.append(int(profit[C]) - int(profit[C - 1]))"
   ]
  },
  {
   "cell_type": "code",
   "execution_count": 11,
   "metadata": {},
   "outputs": [],
   "source": [
    "    decProfit = min(total_change_profits)\n",
    "    incProfit = max(total_change_profits)\n",
    "    decDate = date[total_change_profits.index(decProfit) + 1]\n",
    "    incDate = date[total_change_profits.index(incProfit) + 1]\n",
    "    avgChng = sum(total_change_profits) / len(total_change_profits)"
   ]
  },
  {
   "cell_type": "code",
   "execution_count": 12,
   "metadata": {},
   "outputs": [
    {
     "name": "stdout",
     "output_type": "stream",
     "text": [
      "totalprofit:38382578\n",
      "decProfitSep-2013-2196167\n",
      "incProfitFeb-20121926159\n",
      "totalmonth:86\n",
      "avgChng:-2315.12\n"
     ]
    }
   ],
   "source": [
    "    print(f\"totalprofit:{total_profit}\")\n",
    "    print(f\"decProfit{(decDate)}{decProfit}\")\n",
    "    print(f\"incProfit{(incDate)}{incProfit}\")\n",
    "    print(f\"totalmonth:{count}\")\n",
    "    print(f\"avgChng:{round(avgChng,2)}\")\n"
   ]
  },
  {
   "cell_type": "code",
   "execution_count": 13,
   "metadata": {},
   "outputs": [],
   "source": [
    " with open('Analysis.txt', 'w') as text:\n",
    "\n",
    "    text.write(f\"totalprofit:{total_profit}\")\n",
    "    text.write(f\"decProfit{(decDate)}{decProfit}\")\n",
    "    text.write(f\"incProfit{(incDate)}{incProfit}\")\n",
    "    text.write(f\"totalmonth:{count}\")\n",
    "    text.write(f\"avgChng:{round(avgChng,2)}\")\n"
   ]
  },
  {
   "cell_type": "code",
   "execution_count": null,
   "metadata": {},
   "outputs": [],
   "source": []
  }
 ],
 "metadata": {
  "kernelspec": {
   "display_name": "Python 3",
   "language": "python",
   "name": "python3"
  },
  "language_info": {
   "codemirror_mode": {
    "name": "ipython",
    "version": 3
   },
   "file_extension": ".py",
   "mimetype": "text/x-python",
   "name": "python",
   "nbconvert_exporter": "python",
   "pygments_lexer": "ipython3",
   "version": "3.8.5"
  }
 },
 "nbformat": 4,
 "nbformat_minor": 4
}
