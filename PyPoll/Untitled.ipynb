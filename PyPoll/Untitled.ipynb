{
 "cells": [
  {
   "cell_type": "code",
   "execution_count": 79,
   "metadata": {},
   "outputs": [],
   "source": [
    "import os \n",
    "import csv"
   ]
  },
  {
   "cell_type": "code",
   "execution_count": 80,
   "metadata": {},
   "outputs": [],
   "source": [
    "# commit #Make a place for csv Pypoll\n",
    "PyPollcsv = os.path.join(\"Resources/election_data.csv\")\n",
    "writeFile =\"./Analysis/Analysis.txt\""
   ]
  },
  {
   "cell_type": "code",
   "execution_count": 81,
   "metadata": {},
   "outputs": [],
   "source": [
    "#Make columns a place for data\n",
    "voter_id = []\n",
    "voter_cand = []\n",
    "county = []\n",
    "CandAll= []\n"
   ]
  },
  {
   "cell_type": "code",
   "execution_count": 82,
   "metadata": {},
   "outputs": [],
   "source": [
    "#make variables\n",
    "\n",
    "vote_count = 0\n",
    "vote_perc = 0\n",
    "cand_list = {\"Candidate\": [], \"Votes\": [], \"Vote Percent\": []}\n",
    "winner = 0\n",
    "count = 0\n",
    "\n",
    "\n"
   ]
  },
  {
   "cell_type": "code",
   "execution_count": 83,
   "metadata": {},
   "outputs": [],
   "source": [
    "# open csv\n",
    "with open(PyPollcsv, newline=\"\") as csvfile:\n",
    "    csvreader = csv.reader(csvfile, delimiter=\",\")\n",
    "    csv_header = next(csvreader)\n",
    "    \n",
    "    for A in csvreader:\n",
    "        \n",
    "        count = count + 1\n",
    "        if A[2] not in cand_list[\"Candidate\"]:\n",
    "            cand_list[\"Candidate\"].append(A[2])\n",
    "            CandAll.append(A[2])\n",
    "            \n",
    "                \n",
    "# for F in cand_list['Candidate']:\n",
    "#     index = cand_list[\"Candidate\"].index(F)\n",
    "        \n",
    "# #     print(f\"{F}: {cand_list['Vote Percent'][index]}% ({cand_list['Votes'][index]})\\n\")\n",
    "\n",
    "   \n",
    "# with open(writeFile,'w') as outPut:\n",
    "    \n",
    "#     outPut.write(\"Election Results\")\n",
    "#     for E in cand_list[\"Candidate\"]:\n",
    "#         index = cand_list[\"Candidate\"].index(E)\n",
    "#         writeFile.write(f\"{E}: {cand_list['Vote Percent'][index]}% ({cand_list['Votes'][index]})\\n\")\n",
    "#         print(f\"{E}: {cand_list['Vote Percent'][index]}% ({cand_list['Votes'][index]})\\n\")\n",
    "\n",
    "\n",
    "            \n",
    "            "
   ]
  },
  {
   "cell_type": "code",
   "execution_count": 84,
   "metadata": {},
   "outputs": [],
   "source": [
    "# print(f\"TotalVote:{count}\")\n",
    "#     print(f\"decProfit{(decDate)}{decProfit}\")\n",
    "#     print(f\"incProfit{(incDate)}{incProfit}\")\n",
    "#     print(f\"totalmonth:{count}\")\n",
    "#     print(f\"avgChng:{round(avgChng,2)}\")\n"
   ]
  },
  {
   "cell_type": "code",
   "execution_count": 85,
   "metadata": {},
   "outputs": [
    {
     "data": {
      "text/plain": [
       "{'Candidate': ['Khan', 'Correy', 'Li', \"O'Tooley\"],\n",
       " 'Votes': [],\n",
       " 'Vote Percent': []}"
      ]
     },
     "execution_count": 85,
     "metadata": {},
     "output_type": "execute_result"
    }
   ],
   "source": [
    "cand_list"
   ]
  },
  {
   "cell_type": "code",
   "execution_count": 86,
   "metadata": {},
   "outputs": [
    {
     "data": {
      "text/plain": [
       "3"
      ]
     },
     "execution_count": 86,
     "metadata": {},
     "output_type": "execute_result"
    }
   ],
   "source": [
    "len(cand_list)"
   ]
  },
  {
   "cell_type": "code",
   "execution_count": 87,
   "metadata": {},
   "outputs": [
    {
     "name": "stdout",
     "output_type": "stream",
     "text": [
      "['Khan', 'Correy', 'Li', \"O'Tooley\"]: 0% \n",
      "[]: 0% \n",
      "[]: 0% \n"
     ]
    }
   ],
   "source": [
    "for i in cand_list:\n",
    "    print(f\"{cand_list[i]}: {vote_perc}% \")"
   ]
  },
  {
   "cell_type": "code",
   "execution_count": 88,
   "metadata": {},
   "outputs": [
    {
     "data": {
      "text/plain": [
       "3521001"
      ]
     },
     "execution_count": 88,
     "metadata": {},
     "output_type": "execute_result"
    }
   ],
   "source": [
    "count"
   ]
  },
  {
   "cell_type": "code",
   "execution_count": null,
   "metadata": {},
   "outputs": [],
   "source": []
  }
 ],
 "metadata": {
  "kernelspec": {
   "display_name": "Python 3",
   "language": "python",
   "name": "python3"
  },
  "language_info": {
   "codemirror_mode": {
    "name": "ipython",
    "version": 3
   },
   "file_extension": ".py",
   "mimetype": "text/x-python",
   "name": "python",
   "nbconvert_exporter": "python",
   "pygments_lexer": "ipython3",
   "version": "3.8.5"
  }
 },
 "nbformat": 4,
 "nbformat_minor": 4
}
